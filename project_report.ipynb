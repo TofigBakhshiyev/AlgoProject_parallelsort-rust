{
 "cells": [
  {
   "cell_type": "markdown",
   "metadata": {},
   "source": [
    "### Fast data structures in non-C systems languages"
   ]
  },
  {
   "cell_type": "markdown",
   "metadata": {},
   "source": [
    "In this project, sort algorithm implemented in Rust language and in parallel way for Python language in order to get performance. The main problem is binding Rust to Python in this project."
   ]
  },
  {
   "cell_type": "markdown",
   "metadata": {},
   "source": [
    "### One thread test"
   ]
  },
  {
   "cell_type": "markdown",
   "metadata": {},
   "source": [
    "### Performance test for Python"
   ]
  },
  {
   "cell_type": "code",
   "execution_count": 8,
   "metadata": {},
   "outputs": [],
   "source": [
    "import numpy as np\n",
    "import time\n",
    "import random\n",
    "import matplotlib.pyplot as plt"
   ]
  },
  {
   "cell_type": "code",
   "execution_count": 4,
   "metadata": {},
   "outputs": [
    {
     "name": "stdout",
     "output_type": "stream",
     "text": [
      "Time: 11.64115309715271, isSorted: True\n"
     ]
    }
   ],
   "source": [
    "# creating array for Python sorting\n",
    "size = 100000000\n",
    "arrayPython = np.random.randint(low = 10, high = 100, size = 100000000).flatten().tolist()\n",
    "start = time.time()\n",
    "sorted_array_python = sorted(arrayPython)\n",
    "end = time.time() - start\n",
    "print(f\"Time: {end}, isSorted: {sorted(arrayPython) == sorted_array_python}\")"
   ]
  },
  {
   "cell_type": "markdown",
   "metadata": {},
   "source": [
    "### Performance test parallelsort_rust library (Binding)"
   ]
  },
  {
   "cell_type": "code",
   "execution_count": 5,
   "metadata": {},
   "outputs": [
    {
     "name": "stdout",
     "output_type": "stream",
     "text": [
      "Time: 13.328720331192017, isSorted: True\n"
     ]
    }
   ],
   "source": [
    "import parallelsort_rust\n",
    "arrayRustBinding = np.random.randint(low = 10, high = 100, size = 100000000).flatten().tolist()\n",
    "sizeofArray = len(arrayRustBinding)\n",
    "# size of threads for parallelism\n",
    "threads = 1\n",
    "\n",
    "start = time.time()\n",
    "sorted_array = parallelsort_rust.parallel_sorting(arrayRustBinding, threads, sizeofArray)\n",
    "end = time.time() - start\n",
    "\n",
    "print(f\"Time: {end}, isSorted: {sorted(arrayRustBinding) == sorted_array}\")"
   ]
  },
  {
   "cell_type": "markdown",
   "metadata": {},
   "source": [
    "performance is almost same in Python and Binding (Rust) with one thread"
   ]
  },
  {
   "cell_type": "markdown",
   "metadata": {},
   "source": [
    "### 8 thread test"
   ]
  },
  {
   "cell_type": "code",
   "execution_count": 9,
   "metadata": {},
   "outputs": [
    {
     "name": "stdout",
     "output_type": "stream",
     "text": [
      "merge_sort_parallel 313.0932559967041 True\n"
     ]
    }
   ],
   "source": [
    "# python sort with 8 thread\n",
    "!python mergesort.py"
   ]
  },
  {
   "cell_type": "code",
   "execution_count": 6,
   "metadata": {},
   "outputs": [
    {
     "name": "stdout",
     "output_type": "stream",
     "text": [
      "Time: 7.7150962352752686, isSorted: True\n"
     ]
    }
   ],
   "source": [
    "arrayRustBinding = np.random.randint(low = 10, high = 100, size = 100000000).flatten().tolist()\n",
    "sizeofArray = len(arrayRustBinding)\n",
    "# size of threads for parallelism\n",
    "threads = 8\n",
    "\n",
    "start = time.time()\n",
    "sorted_array = parallelsort_rust.parallel_sorting(arrayRustBinding, threads, sizeofArray)\n",
    "end = time.time() - start\n",
    "\n",
    "print(f\"Time: {end}, isSorted: {sorted(arrayRustBinding) == sorted_array}\")"
   ]
  },
  {
   "cell_type": "markdown",
   "metadata": {},
   "source": [
    "With 8 thread we are getting performance gain\n",
    "- merge_sort_parallel 313.0932559967041 True (Python)\n",
    "- merge_sort_parallel 7.7150962352752686, isSorted: True (Rust Binding)"
   ]
  },
  {
   "cell_type": "code",
   "execution_count": 18,
   "metadata": {},
   "outputs": [
    {
     "data": {
      "image/png": "[encoded data removed]",
      "text/plain": [
       "<Figure size 576x432 with 1 Axes>"
      ]
     },
     "metadata": {
      "needs_background": "light"
     },
     "output_type": "display_data"
    }
   ],
   "source": [
    "\n",
    "threads = [1, 8]\n",
    "\n",
    "python_performance = [11.64115309715271, 313.0932559967041]\n",
    "rust_binding_performance = [13.328720331192017, 7.7150962352752686]\n",
    "\n",
    "plt.figure(figsize=(8,6), tight_layout=True)\n",
    "plt.plot(threads, python_performance, 'o-', linewidth=2)\n",
    "plt.plot(threads, rust_binding_performance, 'o-', linewidth=2)\n",
    "plt.xlabel('Threads')\n",
    "plt.ylabel('Time')\n",
    "\n",
    "plt.legend([\"Python\", \"Rust binding\"], loc =\"upper left\")\n",
    "  \n",
    "plt.show()"
   ]
  },
  {
   "cell_type": "markdown",
   "metadata": {},
   "source": [
    "### Used Resources\n",
    "- [Parallel merge sort in Python](https://gist.github.com/stephenmcd/39ded69946155930c347)\n",
    "- [Parallel sort in Rust](//https://stackoverflow.com/questions/65415293/implementing-a-parallel-multithreaded-merge-sort-on-vec\n",
    ")"
   ]
  }
 ],
 "metadata": {
  "interpreter": {
   "hash": "bd2657bbbef9d8a78db8bf97e6fe9c9882baa7053a1de6aa7e24d3b3654b43a0"
  },
  "kernelspec": {
   "display_name": "Python 3.9.7 64-bit",
   "language": "python",
   "name": "python3"
  },
  "language_info": {
   "codemirror_mode": {
    "name": "ipython",
    "version": 3
   },
   "file_extension": ".py",
   "mimetype": "text/x-python",
   "name": "python",
   "nbconvert_exporter": "python",
   "pygments_lexer": "ipython3",
   "version": "3.9.7"
  },
  "orig_nbformat": 4
 },
 "nbformat": 4,
 "nbformat_minor": 2
}
